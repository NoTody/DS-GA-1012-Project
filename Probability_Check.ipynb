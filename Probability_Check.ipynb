{
  "nbformat": 4,
  "nbformat_minor": 0,
  "metadata": {
    "colab": {
      "name": "Probability Check.ipynb",
      "provenance": [],
      "collapsed_sections": [],
      "machine_shape": "hm"
    },
    "kernelspec": {
      "name": "python3",
      "display_name": "Python 3"
    },
    "language_info": {
      "name": "python"
    }
  },
  "cells": [
    {
      "cell_type": "code",
      "execution_count": null,
      "metadata": {
        "id": "q6vNTBDXQBkC"
      },
      "outputs": [],
      "source": [
        "pip install transformers"
      ]
    },
    {
      "cell_type": "code",
      "source": [
        "import pandas as pd\n",
        "import numpy as np\n",
        "import matplotlib.pyplot as plt\n",
        "import seaborn as sns\n",
        "from scipy import stats\n",
        "\n",
        "import torch\n",
        "import torch.nn as nn\n",
        "from torchvision import datasets, transforms\n",
        "from transformers import pipeline\n",
        "from transformers import BertModel, BertTokenizer\n",
        "\n",
        "import warnings\n",
        "warnings.filterwarnings(\"ignore\")\n",
        "\n",
        "from google.colab import drive\n",
        "drive.mount('/content/drive')\n",
        "data_address = '/content/drive/My Drive/NLU/Project/Datasets/'"
      ],
      "metadata": {
        "colab": {
          "base_uri": "https://localhost:8080/"
        },
        "id": "U_7FGmZnQD8Y",
        "outputId": "a9d6513c-a217-4c29-eb3f-a2380b4de24d"
      },
      "execution_count": null,
      "outputs": [
        {
          "output_type": "stream",
          "name": "stdout",
          "text": [
            "Drive already mounted at /content/drive; to attempt to forcibly remount, call drive.mount(\"/content/drive\", force_remount=True).\n"
          ]
        }
      ]
    },
    {
      "cell_type": "code",
      "source": [
        "def probability_cal(input_name, aug_method):\n",
        "  ori_data = pd.read_csv(data_address + input_name)\n",
        "  aug_data = pd.read_csv(data_address + '/aug_' + aug_method + \"/\" +input_name)\n",
        "\n",
        "  model = BertModel.from_pretrained('bert-base-uncased', output_hidden_states=True)\n",
        "  tokenizer = BertTokenizer.from_pretrained(\"bert-base-uncased\")\n",
        "\n",
        "  cos = torch.nn.CosineSimilarity(dim=0)\n",
        "  column_name = ori_data.columns.values[0]\n",
        "\n",
        "  probability_list = []\n",
        "  for i in range(len(ori_data)):\n",
        "    with torch.no_grad():\n",
        "      embedding_ori = model(**tokenizer(ori_data[column_name][i], return_tensors=\"pt\",truncation=True))[2][-2][0]\n",
        "      embedding_aug = model(**tokenizer(aug_data[column_name][i], return_tensors=\"pt\",truncation=True))[2][-2][0]\n",
        "\n",
        "    sentence_emb_ori = torch.mean(embedding_ori, dim=0)\n",
        "    sentence_emb_aug = torch.mean(embedding_aug, dim=0)\n",
        "\n",
        "    probability = cos(sentence_emb_ori,sentence_emb_aug)\n",
        "    probability_list.append(float(probability))\n",
        "\n",
        "  return (probability_list)\n",
        "\n",
        "\n",
        "\n",
        "def save_prob(input_name,aug_method,prob):\n",
        "  ori_data = pd.read_csv(data_address + input_name)\n",
        "  aug_data = pd.read_csv(data_address + '/aug_' + aug_method + \"/\" +input_name)\n",
        "\n",
        "  column_name = ori_data.columns.values[0]\n",
        "  label = ori_data.columns.values[-1]\n",
        "\n",
        "  s1 = pd.Series(prob, name='probability')\n",
        "  df = pd.concat([ori_data[column_name], aug_data[column_name], ori_data[\"label\"], s1], axis=1, sort=False)\n",
        "  df.columns = [\"ori_\"+column_name, \"aug_\"+ column_name, \"label\", \"probability\"]\n",
        "  \n",
        "  df.to_csv(data_address + '/aug_' + aug_method + \"/prob_\" +input_name, index = None, encoding = 'utf8')\n",
        "\n",
        "\n",
        "\n",
        "def p_line(input_name,aug_method):\n",
        "  prob = probability_cal(input_name,aug_method)\n",
        "  save_prob(input_name,aug_method,prob)\n",
        "  print(\"Average Similarity of \" + aug_method + \" \" + input_name[:-4] + \": \" + str(np.mean(prob))) \n",
        "\n",
        "\n",
        "\n",
        "def kde(aug_method):\n",
        "  data_list = [\"agnews_test.csv\",\"imdb_test.csv\",\"snli_test.csv\"]\n",
        "  color_list = [\"black\",\"red\",\"blue\"]\n",
        "  line_list = ['-','--',':']\n",
        "  plt.style.use('seaborn-deep')\n",
        "\n",
        "  if type(aug_method) == str:\n",
        "    for i in range(0,len(data_list)):\n",
        "      data_name = data_list[i]\n",
        "      df = pd.read_csv(data_address + '/aug_' + aug_method + \"/prob_\" + data_name)\n",
        "      prob = df[\"probability\"].tolist()\n",
        "      sns.distplot(prob, hist=False, kde=False, fit=stats.norm, fit_kws={'color':color_list[i],'label':data_name[:data_name.find(\"_\")].upper(),'linestyle':\"-\"})\n",
        "  \n",
        "  elif type(aug_method) == list:\n",
        "    for i in range(0,len(data_list)):\n",
        "      data_name = data_list[i]\n",
        "      df1 = pd.read_csv(data_address + '/aug_' + aug_method[0] + \"/prob_\" + data_name)\n",
        "      prob1 = df1[\"probability\"].tolist()\n",
        "      sns.distplot(prob1, hist=False, kde=False, fit=stats.norm, fit_kws={'color':color_list[i],'label':data_name[:data_name.find(\"_\")].upper()+\"_\"+aug_method[0],'linestyle':\"-\"})\n",
        "\n",
        "      df2 = pd.read_csv(data_address + '/aug_' + aug_method[1] + \"/prob_\" + data_name)\n",
        "      prob2 = df2[\"probability\"].tolist()\n",
        "      sns.distplot(prob2, hist=False, kde=False, fit=stats.norm, fit_kws={'color':color_list[i],'label':data_name[:data_name.find(\"_\")].upper()+\"_\"+aug_method[1],'linestyle':\":\"})\n",
        "  \n",
        "  plt.legend()\n",
        "  plt.show()"
      ],
      "metadata": {
        "id": "wimeB7psArUC"
      },
      "execution_count": null,
      "outputs": []
    },
    {
      "cell_type": "code",
      "source": [
        "for i in [\"agnews_test.csv\",\"imdb_test.csv\",\"snli_test.csv\"]:\n",
        "  #p_line(i,\"weak_synonym\")\n",
        "  #p_line(i,\"weak_random\")\n",
        "  p_line(i,\"eda\")\n",
        "  p_line(i,\"a2t\")"
      ],
      "metadata": {
        "id": "A9FybkLElTiE"
      },
      "execution_count": null,
      "outputs": []
    },
    {
      "cell_type": "code",
      "source": [
        "kde(\"weak_random\")"
      ],
      "metadata": {
        "colab": {
          "base_uri": "https://localhost:8080/",
          "height": 264
        },
        "id": "x_S9SWUy2oRj",
        "outputId": "dde63ab8-73d5-4f37-9abb-f7bba338fbcf"
      },
      "execution_count": null,
      "outputs": [
        {
          "output_type": "display_data",
          "data": {
            "text/plain": [
              "<Figure size 432x288 with 1 Axes>"
            ],
            "image/png": "[encoded data removed]"
          },
          "metadata": {
            "needs_background": "light"
          }
        }
      ]
    },
    {
      "cell_type": "code",
      "source": [
        "kde([\"weak_random\",\"weak_synonym\"])"
      ],
      "metadata": {
        "colab": {
          "base_uri": "https://localhost:8080/",
          "height": 264
        },
        "id": "MelBwCkwlrMp",
        "outputId": "3e7185f1-8874-4693-94c3-417b6ff7b767"
      },
      "execution_count": null,
      "outputs": [
        {
          "output_type": "display_data",
          "data": {
            "text/plain": [
              "<Figure size 432x288 with 1 Axes>"
            ],
            "image/png": "[encoded data removed]"
          },
          "metadata": {
            "needs_background": "light"
          }
        }
      ]
    },
    {
      "cell_type": "code",
      "source": [
        ""
      ],
      "metadata": {
        "colab": {
          "base_uri": "https://localhost:8080/"
        },
        "id": "LcSbIsNKA7xa",
        "outputId": "949fdcaa-fe36-4fc9-f29f-794b8ef761d5"
      },
      "execution_count": null,
      "outputs": [
        {
          "output_type": "stream",
          "name": "stdout",
          "text": [
            "Average Similarity of agnews_synonym:  0.9838367168919037\n",
            "Average Similarity of imdb_synonym:  0.9948162700772285\n",
            "Average Similarity of snli_synonym:  0.9530042693844059\n"
          ]
        }
      ]
    },
    {
      "cell_type": "code",
      "source": [
        ""
      ],
      "metadata": {
        "id": "3qgXso9slfO6"
      },
      "execution_count": null,
      "outputs": []
    },
    {
      "cell_type": "code",
      "source": [
        ""
      ],
      "metadata": {
        "id": "MHnv4jK7lfmj"
      },
      "execution_count": null,
      "outputs": []
    },
    {
      "cell_type": "code",
      "source": [
        ""
      ],
      "metadata": {
        "id": "CZ0MedZXlf3V"
      },
      "execution_count": null,
      "outputs": []
    },
    {
      "cell_type": "code",
      "source": [
        ""
      ],
      "metadata": {
        "id": "0tddoMN8le4a"
      },
      "execution_count": null,
      "outputs": []
    },
    {
      "cell_type": "code",
      "source": [
        "## Function Test"
      ],
      "metadata": {
        "id": "ahXyeqGrArfw"
      },
      "execution_count": null,
      "outputs": []
    },
    {
      "cell_type": "code",
      "source": [
        "#Bert output layer distance\n",
        "from transformers import BertTokenizer, BertModel\n",
        "tokenizer = BertTokenizer.from_pretrained('bert-base-uncased')\n",
        "model = BertModel.from_pretrained(\"bert-base-uncased\")\n",
        "\n",
        "distance = []\n",
        "for i in range(len(test1)):\n",
        "  encoded_input1 = tokenizer(test1[\"text\"][i], return_tensors='pt')\n",
        "  output1 = model(**encoded_input1)\n",
        "  encoded_input2 = tokenizer(test2[\"text\"][i], return_tensors='pt')\n",
        "  output2 = model(**encoded_input2)\n",
        "  distance.append(torch.cdist(output1[1], output2[1])**2)"
      ],
      "metadata": {
        "id": "aXWOO510UEhl"
      },
      "execution_count": null,
      "outputs": []
    },
    {
      "cell_type": "code",
      "source": [
        "#Test distance using spacy\n",
        "import spacy\n",
        "nlp = spacy.load('en_core_web_sm')\n",
        "print (nlp(test1[\"text\"][2]).similarity(nlp(test2[\"text\"][2]))) # 0.999999954642"
      ],
      "metadata": {
        "colab": {
          "base_uri": "https://localhost:8080/"
        },
        "id": "pckEUMyzZMos",
        "outputId": "7bd3655e-e8ad-4df0-d483-368254628ec5"
      },
      "execution_count": null,
      "outputs": [
        {
          "output_type": "stream",
          "name": "stdout",
          "text": [
            "0.9833415189786808\n"
          ]
        },
        {
          "output_type": "stream",
          "name": "stderr",
          "text": [
            "/usr/lib/python3.7/runpy.py:193: ModelsWarning: [W007] The model you're using has no word vectors loaded, so the result of the Doc.similarity method will be based on the tagger, parser and NER, which may not give useful similarity judgements. This may happen if you're using one of the small models, e.g. `en_core_web_sm`, which don't ship with word vectors and only use context-sensitive tensors. You can always add your own word vectors, or use one of the larger models instead if available.\n",
            "  \"__main__\", mod_spec)\n"
          ]
        }
      ]
    },
    {
      "cell_type": "code",
      "source": [
        "#Sentiment-analysis similarity \n",
        "from transformers import pipeline\n",
        "\n",
        "def cal_senti_simi(input_name, aug_method):\n",
        "  sentiment_pipeline = pipeline(\"sentiment-analysis\")\n",
        "  ori_data = pd.read_csv(data_address + input_name)\n",
        "  aug_data = pd.read_csv(data_address + 'aug_' + aug_method + \"_\" +input_name)\n",
        "  #aug_data = pd.read_csv(data_address + '/augmented_' + aug_method + \"/\" +input_name)\n",
        "\n",
        "  column_name1 = ori_data.columns.values[0]\n",
        "  if column_name1 == \"text\":\n",
        "    senti_ori = sentiment_pipeline(list(ori_data[\"text\"]),truncation=True)\n",
        "    senti_aug = sentiment_pipeline(list(aug_data[\"text\"]),truncation=True)\n",
        "\n",
        "  else:\n",
        "    senti_ori = sentiment_pipeline(list(ori_data[column_name1]),truncation=True)\n",
        "    senti_aug = sentiment_pipeline(list(aug_data[column_name1]),truncation=True)\n",
        "  \n",
        "  #senti_list_ori = []\n",
        "  #senti_list_aug = []\n",
        "\n",
        "  count = 0\n",
        "  pro_match_pair = []\n",
        "  pro_mismatch_pair = []\n",
        "  for i in range(len(ori_data)):\n",
        "    if senti_ori[i][\"label\"] == senti_aug[i][\"label\"]:\n",
        "      count +=1\n",
        "      pro_match_pair.append(senti_aug[i][\"score\"])\n",
        "    else:\n",
        "      pro_mismatch_pair.append(senti_aug[i][\"score\"])\n",
        "\n",
        "  similarity = count/len(ori_data)\n",
        "    #senti_list_ori.append(senti_ori[\"label\"])\n",
        "    #senti_list_aug.append(senti_aug[\"label\"])\n",
        "  return similarity, pro_match_pair, pro_mismatch_pair"
      ],
      "metadata": {
        "id": "u9uM6nTSe3Up"
      },
      "execution_count": null,
      "outputs": []
    },
    {
      "cell_type": "code",
      "source": [
        "senti_simi_agnews_test_synonym = cal_senti_simi(\"agnews_test.csv\",\"synonym\")\n",
        "print(\"Similarity of agnews_synonym: \", senti_simi_agnews_test_synonym[0])\n",
        "sns.distplot(senti_simi_agnews_test_synonym[1], rug=False, hist=False)\n",
        "\n",
        "senti_simi_imdb_test_synonym = cal_senti_simi(\"imdb_test.csv\",\"synonym\")\n",
        "print(\"Similarity of imdb_synonym: \", senti_simi_imdb_test_synonym[0])\n",
        "sns.distplot(senti_simi_imdb_test_synonym[1], rug=False, hist=False)\n",
        "\n",
        "senti_simi_snli_test_synonym = cal_senti_simi(\"snli_test.csv\",\"synonym\")\n",
        "print(\"Similarity of snli_synonym: \", senti_simi_snli_test_synonym[0])\n",
        "sns.distplot(senti_simi_snli_test_synonym[1], rug=False, hist=False)"
      ],
      "metadata": {
        "id": "OriOsXaR5z6g"
      },
      "execution_count": null,
      "outputs": []
    },
    {
      "cell_type": "code",
      "source": [
        "senti_simi_agnews_test_random = cal_senti_simi(\"agnews_test.csv\",\"random\")\n",
        "print(\"Similarity of agnews_random: \", senti_simi_agnews_test_random[0])\n",
        "sns.distplot(senti_simi_agnews_test_random[1], rug=False, hist=False)\n",
        "\n",
        "senti_simi_imdb_test_random = cal_senti_simi(\"imdb_test.csv\",\"random\")\n",
        "print(\"Similarity of imdb_random: \", senti_simi_imdb_test_random[0])\n",
        "sns.distplot(senti_simi_imdb_test_random[1], rug=False, hist=False)\n",
        "\n",
        "senti_simi_snli_test_random = cal_senti_simi(\"snli_test.csv\",\"random\")\n",
        "print(\"Similarity of snli_random: \", senti_simi_snli_test_random[0])\n",
        "sns.distplot(senti_simi_snli_test_random[1], rug=False, hist=False)"
      ],
      "metadata": {
        "id": "57319Z_a5zmG",
        "colab": {
          "base_uri": "https://localhost:8080/"
        },
        "outputId": "b1c279c4-8d79-40f9-fbc9-d590aee65989"
      },
      "execution_count": null,
      "outputs": [
        {
          "output_type": "stream",
          "name": "stdout",
          "text": [
            "Similarity of agnews_random:  0.9322368421052631\n",
            "Similarity of imdb_random:  0.9714\n",
            "Similarity of snli_random:  0.8967833876221498\n"
          ]
        }
      ]
    },
    {
      "cell_type": "code",
      "source": [
        ""
      ],
      "metadata": {
        "id": "ILSuOsKszhC-"
      },
      "execution_count": null,
      "outputs": []
    }
  ]
}